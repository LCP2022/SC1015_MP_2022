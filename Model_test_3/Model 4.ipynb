{
 "cells": [
  {
   "cell_type": "markdown",
   "id": "76057bc2",
   "metadata": {},
   "source": [
    "# Library needed"
   ]
  },
  {
   "cell_type": "code",
   "execution_count": 1,
   "id": "5c8a771c",
   "metadata": {},
   "outputs": [],
   "source": [
    "import pandas as pd\n",
    "import numpy as np\n",
    "import seaborn as sb\n",
    "import matplotlib.pyplot as plt"
   ]
  },
  {
   "cell_type": "markdown",
   "id": "4fdd80df",
   "metadata": {},
   "source": [
    "# Excel file needed\n",
    "https://www.kaggle.com/datasets/fedesoriano/heart-failure-prediction"
   ]
  },
  {
   "cell_type": "code",
   "execution_count": 2,
   "id": "c1e95f81",
   "metadata": {},
   "outputs": [],
   "source": [
    "heart_df = pd.read_csv('heart_train.csv')"
   ]
  },
  {
   "cell_type": "code",
   "execution_count": 3,
   "id": "0fb0ba7e",
   "metadata": {},
   "outputs": [
    {
     "data": {
      "text/html": [
       "<div>\n",
       "<style scoped>\n",
       "    .dataframe tbody tr th:only-of-type {\n",
       "        vertical-align: middle;\n",
       "    }\n",
       "\n",
       "    .dataframe tbody tr th {\n",
       "        vertical-align: top;\n",
       "    }\n",
       "\n",
       "    .dataframe thead th {\n",
       "        text-align: right;\n",
       "    }\n",
       "</style>\n",
       "<table border=\"1\" class=\"dataframe\">\n",
       "  <thead>\n",
       "    <tr style=\"text-align: right;\">\n",
       "      <th></th>\n",
       "      <th>Age</th>\n",
       "      <th>Sex</th>\n",
       "      <th>ChestPainType</th>\n",
       "      <th>RestingBP</th>\n",
       "      <th>Cholesterol</th>\n",
       "      <th>FastingBS</th>\n",
       "      <th>RestingECG</th>\n",
       "      <th>MaxHR</th>\n",
       "      <th>ExerciseAngina</th>\n",
       "      <th>Oldpeak</th>\n",
       "      <th>ST_Slope</th>\n",
       "      <th>HeartDisease</th>\n",
       "    </tr>\n",
       "  </thead>\n",
       "  <tbody>\n",
       "    <tr>\n",
       "      <th>count</th>\n",
       "      <td>918.000000</td>\n",
       "      <td>918</td>\n",
       "      <td>918</td>\n",
       "      <td>918.000000</td>\n",
       "      <td>918.000000</td>\n",
       "      <td>918.000000</td>\n",
       "      <td>918</td>\n",
       "      <td>918.000000</td>\n",
       "      <td>918</td>\n",
       "      <td>918.000000</td>\n",
       "      <td>918</td>\n",
       "      <td>918.000000</td>\n",
       "    </tr>\n",
       "    <tr>\n",
       "      <th>unique</th>\n",
       "      <td>NaN</td>\n",
       "      <td>2</td>\n",
       "      <td>4</td>\n",
       "      <td>NaN</td>\n",
       "      <td>NaN</td>\n",
       "      <td>NaN</td>\n",
       "      <td>3</td>\n",
       "      <td>NaN</td>\n",
       "      <td>2</td>\n",
       "      <td>NaN</td>\n",
       "      <td>3</td>\n",
       "      <td>NaN</td>\n",
       "    </tr>\n",
       "    <tr>\n",
       "      <th>top</th>\n",
       "      <td>NaN</td>\n",
       "      <td>M</td>\n",
       "      <td>ASY</td>\n",
       "      <td>NaN</td>\n",
       "      <td>NaN</td>\n",
       "      <td>NaN</td>\n",
       "      <td>Normal</td>\n",
       "      <td>NaN</td>\n",
       "      <td>N</td>\n",
       "      <td>NaN</td>\n",
       "      <td>Flat</td>\n",
       "      <td>NaN</td>\n",
       "    </tr>\n",
       "    <tr>\n",
       "      <th>freq</th>\n",
       "      <td>NaN</td>\n",
       "      <td>725</td>\n",
       "      <td>496</td>\n",
       "      <td>NaN</td>\n",
       "      <td>NaN</td>\n",
       "      <td>NaN</td>\n",
       "      <td>552</td>\n",
       "      <td>NaN</td>\n",
       "      <td>547</td>\n",
       "      <td>NaN</td>\n",
       "      <td>460</td>\n",
       "      <td>NaN</td>\n",
       "    </tr>\n",
       "    <tr>\n",
       "      <th>mean</th>\n",
       "      <td>53.510893</td>\n",
       "      <td>NaN</td>\n",
       "      <td>NaN</td>\n",
       "      <td>132.396514</td>\n",
       "      <td>198.799564</td>\n",
       "      <td>0.233115</td>\n",
       "      <td>NaN</td>\n",
       "      <td>136.809368</td>\n",
       "      <td>NaN</td>\n",
       "      <td>0.887364</td>\n",
       "      <td>NaN</td>\n",
       "      <td>0.553377</td>\n",
       "    </tr>\n",
       "    <tr>\n",
       "      <th>std</th>\n",
       "      <td>9.432617</td>\n",
       "      <td>NaN</td>\n",
       "      <td>NaN</td>\n",
       "      <td>18.514154</td>\n",
       "      <td>109.384145</td>\n",
       "      <td>0.423046</td>\n",
       "      <td>NaN</td>\n",
       "      <td>25.460334</td>\n",
       "      <td>NaN</td>\n",
       "      <td>1.066570</td>\n",
       "      <td>NaN</td>\n",
       "      <td>0.497414</td>\n",
       "    </tr>\n",
       "    <tr>\n",
       "      <th>min</th>\n",
       "      <td>28.000000</td>\n",
       "      <td>NaN</td>\n",
       "      <td>NaN</td>\n",
       "      <td>0.000000</td>\n",
       "      <td>0.000000</td>\n",
       "      <td>0.000000</td>\n",
       "      <td>NaN</td>\n",
       "      <td>60.000000</td>\n",
       "      <td>NaN</td>\n",
       "      <td>-2.600000</td>\n",
       "      <td>NaN</td>\n",
       "      <td>0.000000</td>\n",
       "    </tr>\n",
       "    <tr>\n",
       "      <th>25%</th>\n",
       "      <td>47.000000</td>\n",
       "      <td>NaN</td>\n",
       "      <td>NaN</td>\n",
       "      <td>120.000000</td>\n",
       "      <td>173.250000</td>\n",
       "      <td>0.000000</td>\n",
       "      <td>NaN</td>\n",
       "      <td>120.000000</td>\n",
       "      <td>NaN</td>\n",
       "      <td>0.000000</td>\n",
       "      <td>NaN</td>\n",
       "      <td>0.000000</td>\n",
       "    </tr>\n",
       "    <tr>\n",
       "      <th>50%</th>\n",
       "      <td>54.000000</td>\n",
       "      <td>NaN</td>\n",
       "      <td>NaN</td>\n",
       "      <td>130.000000</td>\n",
       "      <td>223.000000</td>\n",
       "      <td>0.000000</td>\n",
       "      <td>NaN</td>\n",
       "      <td>138.000000</td>\n",
       "      <td>NaN</td>\n",
       "      <td>0.600000</td>\n",
       "      <td>NaN</td>\n",
       "      <td>1.000000</td>\n",
       "    </tr>\n",
       "    <tr>\n",
       "      <th>75%</th>\n",
       "      <td>60.000000</td>\n",
       "      <td>NaN</td>\n",
       "      <td>NaN</td>\n",
       "      <td>140.000000</td>\n",
       "      <td>267.000000</td>\n",
       "      <td>0.000000</td>\n",
       "      <td>NaN</td>\n",
       "      <td>156.000000</td>\n",
       "      <td>NaN</td>\n",
       "      <td>1.500000</td>\n",
       "      <td>NaN</td>\n",
       "      <td>1.000000</td>\n",
       "    </tr>\n",
       "    <tr>\n",
       "      <th>max</th>\n",
       "      <td>77.000000</td>\n",
       "      <td>NaN</td>\n",
       "      <td>NaN</td>\n",
       "      <td>200.000000</td>\n",
       "      <td>603.000000</td>\n",
       "      <td>1.000000</td>\n",
       "      <td>NaN</td>\n",
       "      <td>202.000000</td>\n",
       "      <td>NaN</td>\n",
       "      <td>6.200000</td>\n",
       "      <td>NaN</td>\n",
       "      <td>1.000000</td>\n",
       "    </tr>\n",
       "  </tbody>\n",
       "</table>\n",
       "</div>"
      ],
      "text/plain": [
       "               Age  Sex ChestPainType   RestingBP  Cholesterol   FastingBS  \\\n",
       "count   918.000000  918           918  918.000000   918.000000  918.000000   \n",
       "unique         NaN    2             4         NaN          NaN         NaN   \n",
       "top            NaN    M           ASY         NaN          NaN         NaN   \n",
       "freq           NaN  725           496         NaN          NaN         NaN   \n",
       "mean     53.510893  NaN           NaN  132.396514   198.799564    0.233115   \n",
       "std       9.432617  NaN           NaN   18.514154   109.384145    0.423046   \n",
       "min      28.000000  NaN           NaN    0.000000     0.000000    0.000000   \n",
       "25%      47.000000  NaN           NaN  120.000000   173.250000    0.000000   \n",
       "50%      54.000000  NaN           NaN  130.000000   223.000000    0.000000   \n",
       "75%      60.000000  NaN           NaN  140.000000   267.000000    0.000000   \n",
       "max      77.000000  NaN           NaN  200.000000   603.000000    1.000000   \n",
       "\n",
       "       RestingECG       MaxHR ExerciseAngina     Oldpeak ST_Slope  \\\n",
       "count         918  918.000000            918  918.000000      918   \n",
       "unique          3         NaN              2         NaN        3   \n",
       "top        Normal         NaN              N         NaN     Flat   \n",
       "freq          552         NaN            547         NaN      460   \n",
       "mean          NaN  136.809368            NaN    0.887364      NaN   \n",
       "std           NaN   25.460334            NaN    1.066570      NaN   \n",
       "min           NaN   60.000000            NaN   -2.600000      NaN   \n",
       "25%           NaN  120.000000            NaN    0.000000      NaN   \n",
       "50%           NaN  138.000000            NaN    0.600000      NaN   \n",
       "75%           NaN  156.000000            NaN    1.500000      NaN   \n",
       "max           NaN  202.000000            NaN    6.200000      NaN   \n",
       "\n",
       "        HeartDisease  \n",
       "count     918.000000  \n",
       "unique           NaN  \n",
       "top              NaN  \n",
       "freq             NaN  \n",
       "mean        0.553377  \n",
       "std         0.497414  \n",
       "min         0.000000  \n",
       "25%         0.000000  \n",
       "50%         1.000000  \n",
       "75%         1.000000  \n",
       "max         1.000000  "
      ]
     },
     "execution_count": 3,
     "metadata": {},
     "output_type": "execute_result"
    }
   ],
   "source": [
    "heart_df.describe(include= 'all')"
   ]
  },
  {
   "cell_type": "code",
   "execution_count": 4,
   "id": "718f2193",
   "metadata": {},
   "outputs": [
    {
     "name": "stdout",
     "output_type": "stream",
     "text": [
      "<class 'pandas.core.frame.DataFrame'>\n",
      "RangeIndex: 918 entries, 0 to 917\n",
      "Data columns (total 12 columns):\n",
      " #   Column          Non-Null Count  Dtype  \n",
      "---  ------          --------------  -----  \n",
      " 0   Age             918 non-null    int64  \n",
      " 1   Sex             918 non-null    object \n",
      " 2   ChestPainType   918 non-null    object \n",
      " 3   RestingBP       918 non-null    int64  \n",
      " 4   Cholesterol     918 non-null    int64  \n",
      " 5   FastingBS       918 non-null    int64  \n",
      " 6   RestingECG      918 non-null    object \n",
      " 7   MaxHR           918 non-null    int64  \n",
      " 8   ExerciseAngina  918 non-null    object \n",
      " 9   Oldpeak         918 non-null    float64\n",
      " 10  ST_Slope        918 non-null    object \n",
      " 11  HeartDisease    918 non-null    int64  \n",
      "dtypes: float64(1), int64(6), object(5)\n",
      "memory usage: 86.2+ KB\n"
     ]
    }
   ],
   "source": [
    "heart_df.info()"
   ]
  },
  {
   "cell_type": "markdown",
   "id": "006df42b",
   "metadata": {},
   "source": [
    "Attribute Information  \n",
    "- Age: age of the patient [years]  \n",
    "- Sex: sex of the patient [M: Male, F: Female]  \n",
    "- ChestPainType: chest pain type [TA: Typical Angina, ATA: Atypical Angina, NAP: Non-Anginal Pain, ASY: Asymptomatic]  \n",
    "- RestingBP: resting blood pressure [mm Hg]  \n",
    "- Cholesterol: serum cholesterol [mm/dl]  \n",
    "- FastingBS: fasting blood sugar [1: if FastingBS > 120 mg/dl, 0: otherwise]  \n",
    "- RestingECG: resting electrocardiogram results [Normal: Normal, ST: having ST-T wave abnormality (T wave inversions and/or ST elevation or depression of > 0.05 mV), LVH: showing probable or definite left ventricular hypertrophy by Estes' criteria]  \n",
    "- MaxHR: maximum heart rate achieved [Numeric value between 60 and 202]  \n",
    "- ExerciseAngina: exercise-induced angina [Y: Yes, N: No]  \n",
    "- Oldpeak: oldpeak = ST [Numeric value measured in depression]  \n",
    "- ST_Slope: the slope of the peak exercise ST segment [Up: upsloping, Flat: flat, Down: downsloping]  \n",
    "- HeartDisease: output class [1: heart disease, 0: Normal]  "
   ]
  },
  {
   "cell_type": "markdown",
   "id": "57e467fa",
   "metadata": {},
   "source": [
    "# Clean Dataset"
   ]
  },
  {
   "cell_type": "code",
   "execution_count": 5,
   "id": "2e0af772",
   "metadata": {},
   "outputs": [
    {
     "name": "stdout",
     "output_type": "stream",
     "text": [
      "<class 'pandas.core.frame.DataFrame'>\n",
      "RangeIndex: 918 entries, 0 to 917\n",
      "Data columns (total 12 columns):\n",
      " #   Column          Non-Null Count  Dtype  \n",
      "---  ------          --------------  -----  \n",
      " 0   AGE             918 non-null    int64  \n",
      " 1   SEX             918 non-null    object \n",
      " 2   CHESTPAINTYPE   918 non-null    object \n",
      " 3   RESTINGBP       918 non-null    int64  \n",
      " 4   CHOLESTEROL     918 non-null    int64  \n",
      " 5   FASTINGBS       918 non-null    int64  \n",
      " 6   RESTINGECG      918 non-null    object \n",
      " 7   MAXHR           918 non-null    int64  \n",
      " 8   EXERCISEANGINA  918 non-null    object \n",
      " 9   OLDPEAK         918 non-null    float64\n",
      " 10  ST_SLOPE        918 non-null    object \n",
      " 11  HEARTDISEASE    918 non-null    int64  \n",
      "dtypes: float64(1), int64(6), object(5)\n",
      "memory usage: 86.2+ KB\n"
     ]
    },
    {
     "name": "stderr",
     "output_type": "stream",
     "text": [
      "C:\\Users\\LCP\\AppData\\Local\\Temp\\ipykernel_17376\\1996328438.py:11: FutureWarning: The default value of regex will change from True to False in a future version. In addition, single character regular expressions will *not* be treated as literal strings when regex=True.\n",
      "  Heart_df_clean.columns = Heart_df_clean.columns.str.replace(\".\",\"\")\n"
     ]
    }
   ],
   "source": [
    "# Create a copy of the Dataset\n",
    "Heart_df_clean = heart_df.copy()\n",
    "\n",
    "# Rename \"#\" to \"ID\" of Pokemon\n",
    "Heart_df_clean.rename(columns = {'#': 'ID'}, inplace = True)\n",
    "\n",
    "# Convert all Variable Names to UPPERCASE\n",
    "Heart_df_clean.columns = Heart_df_clean.columns.str.upper()\n",
    "\n",
    "# Remove all spaces and dots from Variable Names\n",
    "Heart_df_clean.columns = Heart_df_clean.columns.str.replace(\".\",\"\")\n",
    "Heart_df_clean.columns = Heart_df_clean.columns.str.replace(\" \",\"_\")\n",
    "\n",
    "# Print the Variable Information to check\n",
    "Heart_df_clean.info()"
   ]
  },
  {
   "cell_type": "code",
   "execution_count": 6,
   "id": "b1b007ee",
   "metadata": {},
   "outputs": [],
   "source": [
    "# Numeric\n",
    "heart_AGE = pd.DataFrame(Heart_df_clean['AGE'])\n",
    "heart_RBP = pd.DataFrame(Heart_df_clean['RESTINGBP'])\n",
    "heart_CLS = pd.DataFrame(Heart_df_clean['CHOLESTEROL'])\n",
    "heart_MAXHR = pd.DataFrame(Heart_df_clean['MAXHR'])\n",
    "heart_HD = pd.DataFrame(Heart_df_clean['HEARTDISEASE'])\n",
    "\n",
    "#catogrical\n",
    "heart_SEX = pd.DataFrame(Heart_df_clean['SEX'])\n",
    "heart_EA = pd.DataFrame(Heart_df_clean['EXERCISEANGINA'])\n",
    "heart_CPT = pd.DataFrame(Heart_df_clean['CHESTPAINTYPE'])\n"
   ]
  },
  {
   "cell_type": "markdown",
   "id": "241b6aae",
   "metadata": {},
   "source": [
    "# Reconfig type"
   ]
  },
  {
   "cell_type": "code",
   "execution_count": 7,
   "id": "10ce2780",
   "metadata": {},
   "outputs": [],
   "source": [
    "heartC_HD = heart_HD\n",
    "heartC_HD.replace(to_replace=[1,0],value = ['Y','N'],inplace = True )"
   ]
  },
  {
   "cell_type": "code",
   "execution_count": 8,
   "id": "74815e4e",
   "metadata": {},
   "outputs": [
    {
     "name": "stdout",
     "output_type": "stream",
     "text": [
      "<class 'pandas.core.frame.DataFrame'>\n",
      "RangeIndex: 918 entries, 0 to 917\n",
      "Data columns (total 1 columns):\n",
      " #   Column        Non-Null Count  Dtype \n",
      "---  ------        --------------  ----- \n",
      " 0   HEARTDISEASE  918 non-null    object\n",
      "dtypes: object(1)\n",
      "memory usage: 7.3+ KB\n"
     ]
    }
   ],
   "source": [
    "heartC_HD.info()"
   ]
  },
  {
   "cell_type": "markdown",
   "id": "6edacdf3",
   "metadata": {},
   "source": [
    "# Visualisation"
   ]
  },
  {
   "cell_type": "code",
   "execution_count": 9,
   "id": "21050ef6",
   "metadata": {},
   "outputs": [
    {
     "data": {
      "text/plain": [
       "<AxesSubplot:>"
      ]
     },
     "execution_count": 9,
     "metadata": {},
     "output_type": "execute_result"
    },
    {
     "data": {
      "image/png": "[encoded data removed]",
      "text/plain": [
       "<Figure size 1728x1728 with 4 Axes>"
      ]
     },
     "metadata": {
      "needs_background": "light"
     },
     "output_type": "display_data"
    }
   ],
   "source": [
    "f1,ax1= plt.subplots(4,1,figsize =(24,24))\n",
    "sb.boxplot(data = heart_AGE, orient ='h',ax=ax1[0])\n",
    "sb.boxplot(data = heart_RBP, orient ='h',ax=ax1[1])\n",
    "sb.boxplot(data = heart_CLS, orient ='h',ax=ax1[2])\n",
    "sb.boxplot(data = heart_MAXHR, orient ='h',ax=ax1[3])\n"
   ]
  },
  {
   "cell_type": "code",
   "execution_count": 10,
   "id": "9180bdb5",
   "metadata": {},
   "outputs": [
    {
     "data": {
      "text/plain": [
       "<AxesSubplot:xlabel='HEARTDISEASE', ylabel='count'>"
      ]
     },
     "execution_count": 10,
     "metadata": {},
     "output_type": "execute_result"
    },
    {
     "data": {
      "image/png": "[encoded data removed]",
      "text/plain": [
       "<Figure size 432x288 with 1 Axes>"
      ]
     },
     "metadata": {
      "needs_background": "light"
     },
     "output_type": "display_data"
    }
   ],
   "source": [
    "sb.countplot(x='HEARTDISEASE',data =heartC_HD,orient='h')"
   ]
  },
  {
   "cell_type": "code",
   "execution_count": 11,
   "id": "cdb29c64",
   "metadata": {},
   "outputs": [
    {
     "data": {
      "text/plain": [
       "<AxesSubplot:xlabel='count', ylabel='SEX'>"
      ]
     },
     "execution_count": 11,
     "metadata": {},
     "output_type": "execute_result"
    },
    {
     "data": {
      "image/png": "[encoded data removed]",
      "text/plain": [
       "<Figure size 432x288 with 1 Axes>"
      ]
     },
     "metadata": {
      "needs_background": "light"
     },
     "output_type": "display_data"
    }
   ],
   "source": [
    "sb.countplot(y ='SEX',data = heart_SEX,orient ='v')"
   ]
  },
  {
   "cell_type": "code",
   "execution_count": 12,
   "id": "7eac0ba0",
   "metadata": {},
   "outputs": [
    {
     "data": {
      "text/plain": [
       "<AxesSubplot:xlabel='count', ylabel='EXERCISEANGINA'>"
      ]
     },
     "execution_count": 12,
     "metadata": {},
     "output_type": "execute_result"
    },
    {
     "data": {
      "image/png": "[encoded data removed]",
      "text/plain": [
       "<Figure size 432x288 with 1 Axes>"
      ]
     },
     "metadata": {
      "needs_background": "light"
     },
     "output_type": "display_data"
    }
   ],
   "source": [
    "sb.countplot( y ='EXERCISEANGINA',data = heart_EA,orient='v')"
   ]
  },
  {
   "cell_type": "code",
   "execution_count": 13,
   "id": "d4dea241",
   "metadata": {},
   "outputs": [
    {
     "data": {
      "text/plain": [
       "<seaborn.axisgrid.FacetGrid at 0x2f81dc1fd00>"
      ]
     },
     "execution_count": 13,
     "metadata": {},
     "output_type": "execute_result"
    },
    {
     "data": {
      "image/png": "[encoded data removed]",
      "text/plain": [
       "<Figure size 360x360 with 1 Axes>"
      ]
     },
     "metadata": {
      "needs_background": "light"
     },
     "output_type": "display_data"
    }
   ],
   "source": [
    "sb.catplot(x='CHESTPAINTYPE',data = heart_CPT,kind='count')"
   ]
  },
  {
   "cell_type": "code",
   "execution_count": 14,
   "id": "875d7d4a",
   "metadata": {},
   "outputs": [
    {
     "data": {
      "text/plain": [
       "<AxesSubplot:>"
      ]
     },
     "execution_count": 14,
     "metadata": {},
     "output_type": "execute_result"
    },
    {
     "data": {
      "image/png": "[encoded data removed]",
      "text/plain": [
       "<Figure size 1728x1728 with 2 Axes>"
      ]
     },
     "metadata": {
      "needs_background": "light"
     },
     "output_type": "display_data"
    }
   ],
   "source": [
    "f3 = plt.figure(figsize =(24,24))\n",
    "sb.heatmap(Heart_df_clean.corr()[['HEARTDISEASE']], vmin = -1, vmax = 1, annot = True, fmt=\".2f\")"
   ]
  },
  {
   "cell_type": "code",
   "execution_count": 15,
   "id": "c190a3cf",
   "metadata": {},
   "outputs": [],
   "source": [
    "test1 = pd.concat([heartC_HD,heart_SEX],axis=1).reindex(heartC_HD.index)\n",
    "test2 = pd.concat([heartC_HD,heart_EA],axis=1).reindex(heartC_HD.index)\n",
    "test3 = pd.concat([heartC_HD,heart_CPT],axis=1).reindex(heartC_HD.index)"
   ]
  },
  {
   "cell_type": "code",
   "execution_count": 16,
   "id": "acef92bc",
   "metadata": {},
   "outputs": [
    {
     "data": {
      "text/plain": [
       "<AxesSubplot:xlabel='HEARTDISEASE', ylabel='count'>"
      ]
     },
     "execution_count": 16,
     "metadata": {},
     "output_type": "execute_result"
    },
    {
     "data": {
      "image/png": "[encoded data removed]",
      "text/plain": [
       "<Figure size 1728x1728 with 2 Axes>"
      ]
     },
     "metadata": {
      "needs_background": "light"
     },
     "output_type": "display_data"
    }
   ],
   "source": [
    "f4,ax2 =plt.subplots(1,2,figsize= (24,24))\n",
    "sb.countplot(data =test1,x='HEARTDISEASE',hue='SEX',ax=ax2[0])\n",
    "sb.countplot(data =test2,x='HEARTDISEASE',hue='EXERCISEANGINA',ax=ax2[1])"
   ]
  },
  {
   "cell_type": "code",
   "execution_count": 17,
   "id": "d3695724",
   "metadata": {},
   "outputs": [
    {
     "data": {
      "text/plain": [
       "<AxesSubplot:xlabel='count', ylabel='CHESTPAINTYPE'>"
      ]
     },
     "execution_count": 17,
     "metadata": {},
     "output_type": "execute_result"
    },
    {
     "data": {
      "image/png": "[encoded data removed]",
      "text/plain": [
       "<Figure size 432x288 with 1 Axes>"
      ]
     },
     "metadata": {
      "needs_background": "light"
     },
     "output_type": "display_data"
    }
   ],
   "source": [
    "sb.countplot(data =test3,y='CHESTPAINTYPE',hue='HEARTDISEASE',orient='v')"
   ]
  },
  {
   "cell_type": "code",
   "execution_count": 18,
   "id": "fc6c2bac",
   "metadata": {},
   "outputs": [],
   "source": [
    "from sklearn.tree import plot_tree\n",
    "from sklearn.metrics import confusion_matrix\n",
    "from sklearn.model_selection import train_test_split\n",
    "#-------------[model1,2]----------------------\n",
    "from sklearn.tree import DecisionTreeClassifier\n",
    "#-------------[model3,4]----------------------\n",
    "from sklearn.ensemble import RandomForestClassifier\n",
    "#-------------[model5,6]------------------------\n",
    "from tensorflow import keras\n",
    "from tensorflow.keras.utils import plot_model\n",
    "from sklearn.preprocessing import StandardScaler"
   ]
  },
  {
   "cell_type": "code",
   "execution_count": 19,
   "id": "e55260aa",
   "metadata": {},
   "outputs": [],
   "source": [
    "Age3_train, Age3_test, HD3_train, HD3_test = train_test_split(heart_AGE,heartC_HD, test_size = 0.3,random_state=42)"
   ]
  },
  {
   "cell_type": "code",
   "execution_count": 28,
   "id": "9fa401c4",
   "metadata": {},
   "outputs": [],
   "source": [
    "X = pd.DataFrame(Heart_df_clean[['AGE','CHOLESTEROL','MAXHR','RESTINGBP']]) # Features\n",
    "y = pd.DataFrame(Heart_df_clean['HEARTDISEASE']) # Target variable\n",
    "X_train, X_test, y_train, y_test = train_test_split(X, y, test_size=0.3, random_state=42) # 70% training and 30% test"
   ]
  },
  {
   "cell_type": "code",
   "execution_count": 29,
   "id": "657cab21",
   "metadata": {},
   "outputs": [
    {
     "name": "stderr",
     "output_type": "stream",
     "text": [
      "C:\\Users\\LCP\\AppData\\Local\\Temp\\ipykernel_17376\\2654164371.py:3: DataConversionWarning: A column-vector y was passed when a 1d array was expected. Please change the shape of y to (n_samples,), for example using ravel().\n",
      "  dectree4.fit(X_train,y_train)\n"
     ]
    },
    {
     "data": {
      "text/plain": [
       "RandomForestClassifier(max_depth=4)"
      ]
     },
     "execution_count": 29,
     "metadata": {},
     "output_type": "execute_result"
    }
   ],
   "source": [
    "dectree4 = RandomForestClassifier(n_estimators = 100,  # n_estimators denote number of trees\n",
    "                                  max_depth = 4)       # set the maximum depth of each tree\n",
    "dectree4.fit(X_train,y_train)"
   ]
  },
  {
   "cell_type": "code",
   "execution_count": 30,
   "id": "a26263f0",
   "metadata": {},
   "outputs": [
    {
     "data": {
      "text/plain": [
       "Text(0.5, 1.0, 'Test Model 4')"
      ]
     },
     "execution_count": 30,
     "metadata": {},
     "output_type": "execute_result"
    },
    {
     "data": {
      "image/png": "[encoded data removed]",
      "text/plain": [
       "<Figure size 1728x576 with 4 Axes>"
      ]
     },
     "metadata": {
      "needs_background": "light"
     },
     "output_type": "display_data"
    }
   ],
   "source": [
    "y_train_pred2 = dectree4.predict(X_train)\n",
    "y_test_pred2 = dectree4.predict(X_test)\n",
    "f10,ax6 = plt.subplots(1,2,figsize =(24,8))\n",
    "sb.heatmap(confusion_matrix(y_train, y_train_pred2), \n",
    "           annot = True, fmt=\".0f\", annot_kws={\"size\": 18},ax=ax6[0])\n",
    "ax6[0].set_title(\"Train Model 4\",fontsize = '20')\n",
    "sb.heatmap(confusion_matrix(y_test, y_test_pred2), \n",
    "           annot = True, fmt=\".0f\", annot_kws={\"size\": 18},ax=ax6[1])\n",
    "ax6[1].set_title(\"Test Model 4\",fontsize = '20')"
   ]
  },
  {
   "cell_type": "code",
   "execution_count": 31,
   "id": "e324ab1d",
   "metadata": {},
   "outputs": [
    {
     "name": "stdout",
     "output_type": "stream",
     "text": [
      "Goodness of Fit of Model \tTrain Dataset\n",
      "Classification Accuracy \t: 0.7663551401869159\n",
      "\n",
      "TPR Train :\t 0.8197674418604651\n",
      "TNR Train :\t 0.7046979865771812\n",
      "\n",
      "FPR Train :\t 0.2953020134228188\n",
      "FNR Train :\t 0.18023255813953487\n",
      "\n",
      "Goodness of Fit of Model \tTest Dataset\n",
      "Classification Accuracy \t: 0.7318840579710145\n",
      "\n",
      "TPR Test :\t 0.7865853658536586\n",
      "TNR Test :\t 0.6517857142857143\n",
      "\n",
      "FPR Test :\t 0.3482142857142857\n",
      "FNR Test :\t 0.21341463414634146\n",
      "\n"
     ]
    }
   ],
   "source": [
    "# Check the Goodness of Fit (on Train Data)\n",
    "print(\"Goodness of Fit of Model \\tTrain Dataset\")\n",
    "print(\"Classification Accuracy \\t:\", dectree4.score(X_train, y_train))\n",
    "print()\n",
    "\n",
    "# Print the Accuracy Measures from the Confusion Matrix\n",
    "cmTrain4 = confusion_matrix(y_train, y_train_pred2)\n",
    "tpTrain4 = cmTrain4[1][1] # True Positives : Good (1) predicted Good (1)\n",
    "fpTrain4 = cmTrain4[0][1] # False Positives : Bad (0) predicted Good (1)\n",
    "tnTrain4 = cmTrain4[0][0] # True Negatives : Bad (0) predicted Bad (0)\n",
    "fnTrain4 = cmTrain4[1][0] # False Negatives : Good (1) predicted Bad (0)\n",
    "print(\"TPR Train :\\t\", (tpTrain4/(tpTrain4 + fnTrain4)))\n",
    "print(\"TNR Train :\\t\", (tnTrain4/(tnTrain4 + fpTrain4)))\n",
    "print()\n",
    "print(\"FPR Train :\\t\", (fpTrain4/(tnTrain4 + fpTrain4)))\n",
    "print(\"FNR Train :\\t\", (fnTrain4/(tpTrain4 + fnTrain4)))\n",
    "print()\n",
    "\n",
    "# Check the Goodness of Fit (on Test Data)\n",
    "print(\"Goodness of Fit of Model \\tTest Dataset\")\n",
    "print(\"Classification Accuracy \\t:\", dectree4.score(X_test, y_test))\n",
    "print()\n",
    "\n",
    "# Print the Accuracy Measures from the Confusion Matrix\n",
    "cmtest4 = confusion_matrix(y_test, y_test_pred2)\n",
    "tptest4 = cmtest4[1][1] # True Positives : Good (1) predicted Good (1)\n",
    "fptest4 = cmtest4[0][1] # False Positives : Bad (0) predicted Good (1)\n",
    "tntest4 = cmtest4[0][0] # True Negatives : Bad (0) predicted Bad (0)\n",
    "fntest4 = cmtest4[1][0] # False Negatives : Good (1) predicted Bad (0)\n",
    "print(\"TPR Test :\\t\", (tptest4/(tptest4 + fntest4)))\n",
    "print(\"TNR Test :\\t\", (tntest4/(tntest4 + fptest4)))\n",
    "print()\n",
    "print(\"FPR Test :\\t\", (fptest4/(tntest4 + fptest4)))\n",
    "print(\"FNR Test :\\t\", (fntest4/(tptest4 + fntest4)))\n",
    "print()\n"
   ]
  },
  {
   "cell_type": "code",
   "execution_count": null,
   "id": "71db63b9",
   "metadata": {},
   "outputs": [],
   "source": []
  }
 ],
 "metadata": {
  "kernelspec": {
   "display_name": "Python 3 (ipykernel)",
   "language": "python",
   "name": "python3"
  },
  "language_info": {
   "codemirror_mode": {
    "name": "ipython",
    "version": 3
   },
   "file_extension": ".py",
   "mimetype": "text/x-python",
   "name": "python",
   "nbconvert_exporter": "python",
   "pygments_lexer": "ipython3",
   "version": "3.9.7"
  }
 },
 "nbformat": 4,
 "nbformat_minor": 5
}
